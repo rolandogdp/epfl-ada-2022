{
 "cells": [
  {
   "cell_type": "code",
   "execution_count": 9,
   "id": "01609c1e-a6c2-499f-b3e2-d332dd33c3e0",
   "metadata": {},
   "outputs": [],
   "source": [
    "import pandas as pd\n",
    "import numpy as np\n",
    "import matplotlib.pyplot as plt\n",
    "import scipy as sp\n",
    "import ipywidgets as iw\n"
   ]
  },
  {
   "cell_type": "code",
   "execution_count": 10,
   "id": "48c7a721-8f0f-4095-8b3c-68adc7e8d8b4",
   "metadata": {},
   "outputs": [],
   "source": [
    "data_path = \"datasets/interactive_data.csv\""
   ]
  },
  {
   "cell_type": "code",
   "execution_count": 11,
   "id": "2d50992a-c2be-4057-96a0-f27a8a6604d4",
   "metadata": {},
   "outputs": [],
   "source": [
    "data = pd.read_csv(data_path)"
   ]
  },
  {
   "cell_type": "code",
   "execution_count": 18,
   "id": "826da183-4f29-4bfd-8862-587af8acca23",
   "metadata": {},
   "outputs": [
    {
     "data": {
      "text/html": [
       "<div>\n",
       "<style scoped>\n",
       "    .dataframe tbody tr th:only-of-type {\n",
       "        vertical-align: middle;\n",
       "    }\n",
       "\n",
       "    .dataframe tbody tr th {\n",
       "        vertical-align: top;\n",
       "    }\n",
       "\n",
       "    .dataframe thead th {\n",
       "        text-align: right;\n",
       "    }\n",
       "</style>\n",
       "<table border=\"1\" class=\"dataframe\">\n",
       "  <thead>\n",
       "    <tr style=\"text-align: right;\">\n",
       "      <th></th>\n",
       "      <th>Unnamed: 0</th>\n",
       "      <th>Intent</th>\n",
       "      <th>Gender</th>\n",
       "      <th>Age</th>\n",
       "      <th>Race</th>\n",
       "      <th>Deaths</th>\n",
       "      <th>Population</th>\n",
       "      <th>Rate</th>\n",
       "    </tr>\n",
       "  </thead>\n",
       "  <tbody>\n",
       "    <tr>\n",
       "      <th>0</th>\n",
       "      <td>1</td>\n",
       "      <td>None selected</td>\n",
       "      <td>None selected</td>\n",
       "      <td>None selected</td>\n",
       "      <td>None selected</td>\n",
       "      <td>33599</td>\n",
       "      <td>316299978</td>\n",
       "      <td>10.6</td>\n",
       "    </tr>\n",
       "    <tr>\n",
       "      <th>1</th>\n",
       "      <td>2</td>\n",
       "      <td>None selected</td>\n",
       "      <td>None selected</td>\n",
       "      <td>None selected</td>\n",
       "      <td>White</td>\n",
       "      <td>22079</td>\n",
       "      <td>197369634</td>\n",
       "      <td>11.2</td>\n",
       "    </tr>\n",
       "    <tr>\n",
       "      <th>2</th>\n",
       "      <td>3</td>\n",
       "      <td>None selected</td>\n",
       "      <td>None selected</td>\n",
       "      <td>None selected</td>\n",
       "      <td>Black</td>\n",
       "      <td>7765</td>\n",
       "      <td>38896382</td>\n",
       "      <td>20.0</td>\n",
       "    </tr>\n",
       "    <tr>\n",
       "      <th>3</th>\n",
       "      <td>4</td>\n",
       "      <td>None selected</td>\n",
       "      <td>None selected</td>\n",
       "      <td>None selected</td>\n",
       "      <td>Hispanic</td>\n",
       "      <td>3007</td>\n",
       "      <td>54049078</td>\n",
       "      <td>5.6</td>\n",
       "    </tr>\n",
       "    <tr>\n",
       "      <th>4</th>\n",
       "      <td>5</td>\n",
       "      <td>None selected</td>\n",
       "      <td>None selected</td>\n",
       "      <td>None selected</td>\n",
       "      <td>Asian/Pacific Islander</td>\n",
       "      <td>442</td>\n",
       "      <td>16315561</td>\n",
       "      <td>2.7</td>\n",
       "    </tr>\n",
       "    <tr>\n",
       "      <th>...</th>\n",
       "      <td>...</td>\n",
       "      <td>...</td>\n",
       "      <td>...</td>\n",
       "      <td>...</td>\n",
       "      <td>...</td>\n",
       "      <td>...</td>\n",
       "      <td>...</td>\n",
       "      <td>...</td>\n",
       "    </tr>\n",
       "    <tr>\n",
       "      <th>535</th>\n",
       "      <td>536</td>\n",
       "      <td>Unknown</td>\n",
       "      <td>Male</td>\n",
       "      <td>5</td>\n",
       "      <td>White</td>\n",
       "      <td>0</td>\n",
       "      <td>0</td>\n",
       "      <td>NaN</td>\n",
       "    </tr>\n",
       "    <tr>\n",
       "      <th>536</th>\n",
       "      <td>537</td>\n",
       "      <td>Unknown</td>\n",
       "      <td>Male</td>\n",
       "      <td>5</td>\n",
       "      <td>Black</td>\n",
       "      <td>0</td>\n",
       "      <td>0</td>\n",
       "      <td>NaN</td>\n",
       "    </tr>\n",
       "    <tr>\n",
       "      <th>537</th>\n",
       "      <td>538</td>\n",
       "      <td>Unknown</td>\n",
       "      <td>Male</td>\n",
       "      <td>5</td>\n",
       "      <td>Hispanic</td>\n",
       "      <td>0</td>\n",
       "      <td>0</td>\n",
       "      <td>NaN</td>\n",
       "    </tr>\n",
       "    <tr>\n",
       "      <th>538</th>\n",
       "      <td>539</td>\n",
       "      <td>Unknown</td>\n",
       "      <td>Male</td>\n",
       "      <td>5</td>\n",
       "      <td>Asian/Pacific Islander</td>\n",
       "      <td>0</td>\n",
       "      <td>0</td>\n",
       "      <td>NaN</td>\n",
       "    </tr>\n",
       "    <tr>\n",
       "      <th>539</th>\n",
       "      <td>540</td>\n",
       "      <td>Unknown</td>\n",
       "      <td>Male</td>\n",
       "      <td>5</td>\n",
       "      <td>Other</td>\n",
       "      <td>0</td>\n",
       "      <td>0</td>\n",
       "      <td>NaN</td>\n",
       "    </tr>\n",
       "  </tbody>\n",
       "</table>\n",
       "<p>540 rows × 8 columns</p>\n",
       "</div>"
      ],
      "text/plain": [
       "     Unnamed: 0         Intent         Gender            Age  \\\n",
       "0             1  None selected  None selected  None selected   \n",
       "1             2  None selected  None selected  None selected   \n",
       "2             3  None selected  None selected  None selected   \n",
       "3             4  None selected  None selected  None selected   \n",
       "4             5  None selected  None selected  None selected   \n",
       "..          ...            ...            ...            ...   \n",
       "535         536        Unknown           Male              5   \n",
       "536         537        Unknown           Male              5   \n",
       "537         538        Unknown           Male              5   \n",
       "538         539        Unknown           Male              5   \n",
       "539         540        Unknown           Male              5   \n",
       "\n",
       "                       Race  Deaths  Population  Rate  \n",
       "0             None selected   33599   316299978  10.6  \n",
       "1                     White   22079   197369634  11.2  \n",
       "2                     Black    7765    38896382  20.0  \n",
       "3                  Hispanic    3007    54049078   5.6  \n",
       "4    Asian/Pacific Islander     442    16315561   2.7  \n",
       "..                      ...     ...         ...   ...  \n",
       "535                   White       0           0   NaN  \n",
       "536                   Black       0           0   NaN  \n",
       "537                Hispanic       0           0   NaN  \n",
       "538  Asian/Pacific Islander       0           0   NaN  \n",
       "539                   Other       0           0   NaN  \n",
       "\n",
       "[540 rows x 8 columns]"
      ]
     },
     "execution_count": 18,
     "metadata": {},
     "output_type": "execute_result"
    }
   ],
   "source": [
    "data\n"
   ]
  },
  {
   "cell_type": "code",
   "execution_count": 19,
   "id": "b00e076b-e8ba-4e3f-8af0-38470f1242d9",
   "metadata": {},
   "outputs": [
    {
     "data": {
      "text/plain": [
       "Unnamed: 0  Intent         Gender         Age            Race           Deaths  Population  Rate\n",
       "1           None selected  None selected  None selected  None selected  33599   316299978   10.6    1\n",
       "345         Accident       None selected  35 - 64        Black          24      14848291    0.2     1\n",
       "363         Accident       Female         None selected  Black          11      20362385    0.1     1\n",
       "362         Accident       Female         None selected  White          55      100162288   0.1     1\n",
       "361         Accident       Female         None selected  None selected  73      160668110   0.0     1\n",
       "                                                                                                   ..\n",
       "166         Suicide        Female         35 - 64        Hispanic       52      8863203     0.6     1\n",
       "165         Suicide        Female         35 - 64        Black          65      7932606     0.8     1\n",
       "164         Suicide        Female         35 - 64        White          1630    41284839    3.9     1\n",
       "163         Suicide        Female         35 - 64        None selected  1773    63125058    2.8     1\n",
       "534         Unknown        Male           65+            Other          0       255719      0.0     1\n",
       "Length: 468, dtype: int64"
      ]
     },
     "execution_count": 19,
     "metadata": {},
     "output_type": "execute_result"
    }
   ],
   "source": [
    "data.value_counts()"
   ]
  },
  {
   "cell_type": "code",
   "execution_count": null,
   "id": "eeccd477-b1fb-4bb9-bfc4-df082d326b66",
   "metadata": {},
   "outputs": [],
   "source": []
  },
  {
   "cell_type": "code",
   "execution_count": 27,
   "id": "f9f7a4e7-337e-46b6-8c23-9787df2b4374",
   "metadata": {},
   "outputs": [
    {
     "name": "stdout",
     "output_type": "stream",
     "text": [
      "{'None selected', 'Hispanic', 'Other', 'Asian/Pacific Islander', 'White', 'Black'}\n",
      "{'None selected', 'Male', 'Female'}\n",
      "{'None selected', 'Suicide', 'Homicide', 'Unknown', 'Accident'}\n",
      "{'None selected', '15 - 34', '5', 'Under 15', '35 - 64', '65+'}\n"
     ]
    }
   ],
   "source": [
    "race_set = set(data[\"Race\"])\n",
    "gender_set = set(data[\"Gender\"])\n",
    "intent_set = set(data[\"Intent\"])\n",
    "age_set = set(data[\"Age\"])\n",
    "\n",
    "\n",
    "print(race_set)\n",
    "print(gender_set)\n",
    "print(intent_set)\n",
    "print(age_set)\n"
   ]
  },
  {
   "cell_type": "code",
   "execution_count": 28,
   "id": "20ec0336-f7e8-4df5-ad2e-21d44758e88b",
   "metadata": {},
   "outputs": [],
   "source": [
    "def get_data(intent=\"None selected\",gender=\"None selected\",race=\"None selected\", age=\"None selected\"):\n",
    "    return(data[ (data[\"Intent\"]==intent) & (data[\"Gender\"]==gender) &  (data[\"Race\"]==race) & (data[\"Age\"]==age)])\n"
   ]
  },
  {
   "cell_type": "code",
   "execution_count": 32,
   "id": "33af104c-a38f-44a3-b3f2-00546857c090",
   "metadata": {},
   "outputs": [
    {
     "data": {
      "text/plain": [
       "36    4816\n",
       "Name: Deaths, dtype: int64"
      ]
     },
     "execution_count": 32,
     "metadata": {},
     "output_type": "execute_result"
    }
   ],
   "source": [
    "all_deaths = get_data()\n"
   ]
  },
  {
   "cell_type": "code",
   "execution_count": null,
   "id": "a6ba6f6b-5902-4ef2-a882-71a0c6adcf45",
   "metadata": {},
   "outputs": [],
   "source": []
  }
 ],
 "metadata": {
  "kernelspec": {
   "display_name": "Python 3 (ipykernel)",
   "language": "python",
   "name": "python3"
  },
  "language_info": {
   "codemirror_mode": {
    "name": "ipython",
    "version": 3
   },
   "file_extension": ".py",
   "mimetype": "text/x-python",
   "name": "python",
   "nbconvert_exporter": "python",
   "pygments_lexer": "ipython3",
   "version": "3.10.7"
  }
 },
 "nbformat": 4,
 "nbformat_minor": 5
}
